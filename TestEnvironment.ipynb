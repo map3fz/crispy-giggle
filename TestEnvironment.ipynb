{
 "cells": [
  {
   "cell_type": "code",
   "id": "initial_id",
   "metadata": {
    "collapsed": true,
    "ExecuteTime": {
     "end_time": "2025-04-03T20:29:30.599663Z",
     "start_time": "2025-04-03T20:29:30.559891Z"
    }
   },
   "source": [
    "import pandas as pd\n",
    "df = pd.read_excel(r\"C:\\Users\\stapu\\Downloads\\SoftMouse.NET-Litter List-JohnLukens2025-04-02 0941.xlsx\")\n",
    "print(df.columns)"
   ],
   "outputs": [
    {
     "name": "stdout",
     "output_type": "stream",
     "text": [
      "Index(['Date of Birth', 'Wean Date', 'Mouseline', 'Cage Tag', 'Sire Tag',\n",
      "       'Tail / Tag Date', 'Sire Genotype', 'Dam Tag', 'Dam Genotype',\n",
      "       'Comment'],\n",
      "      dtype='object')\n"
     ]
    },
    {
     "name": "stderr",
     "output_type": "stream",
     "text": [
      "C:\\Users\\stapu\\anaconda3\\Lib\\site-packages\\openpyxl\\styles\\stylesheet.py:237: UserWarning: Workbook contains no default style, apply openpyxl's default\n",
      "  warn(\"Workbook contains no default style, apply openpyxl's default\")\n"
     ]
    }
   ],
   "execution_count": 4
  },
  {
   "metadata": {},
   "cell_type": "code",
   "outputs": [],
   "execution_count": null,
   "source": "",
   "id": "e698e828b0195f81"
  }
 ],
 "metadata": {
  "kernelspec": {
   "display_name": "Python 3",
   "language": "python",
   "name": "python3"
  },
  "language_info": {
   "codemirror_mode": {
    "name": "ipython",
    "version": 2
   },
   "file_extension": ".py",
   "mimetype": "text/x-python",
   "name": "python",
   "nbconvert_exporter": "python",
   "pygments_lexer": "ipython2",
   "version": "2.7.6"
  }
 },
 "nbformat": 4,
 "nbformat_minor": 5
}
